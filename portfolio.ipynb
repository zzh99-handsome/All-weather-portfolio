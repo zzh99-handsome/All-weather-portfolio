{
 "cells": [
  {
   "cell_type": "code",
   "execution_count": 56,
   "id": "337399a3",
   "metadata": {},
   "outputs": [
    {
     "name": "stdout",
     "output_type": "stream",
     "text": [
      "                   代码     名称   开盘价(元)   最高价(元)   最低价(元)   收盘价(元)     涨跌幅  \\\n",
      "日期                                                                         \n",
      "2002-01-04  000300.SH  沪深300  1316.46  1316.46  1316.46  1316.46  0.0000   \n",
      "2002-01-07  000300.SH  沪深300  1302.08  1302.08  1302.08  1302.08 -0.0109   \n",
      "2002-01-08  000300.SH  沪深300  1292.71  1292.71  1292.71  1292.71 -0.0072   \n",
      "2002-01-09  000300.SH  沪深300  1272.65  1272.65  1272.65  1272.65 -0.0155   \n",
      "2002-01-10  000300.SH  沪深300  1281.26  1281.26  1281.26  1281.26  0.0068   \n",
      "\n",
      "            成交额(百万)  成交量(股)  \n",
      "日期                           \n",
      "2002-01-04      0.0       0  \n",
      "2002-01-07      0.0       0  \n",
      "2002-01-08      0.0       0  \n",
      "2002-01-09      0.0       0  \n",
      "2002-01-10      0.0       0  \n"
     ]
    }
   ],
   "source": [
    "import numpy as np\n",
    "import pandas as pd\n",
    "\n",
    "stock_300=pd.read_excel('price/沪深300.xlsx',index_col='日期')\n",
    "print(stock_300.head())"
   ]
  },
  {
   "cell_type": "code",
   "execution_count": 57,
   "id": "4b0186b2",
   "metadata": {},
   "outputs": [],
   "source": [
    "stock_1000=pd.read_excel('.price/中证1000.xlsx',index_col='日期')\n",
    "#print(stock_1000.head())\n",
    "bond=pd.read_excel('price/T.xlsx',index_col='日期')\n",
    "#print(bond.head())\n",
    "crude_oil=pd.read_excel('price/原油.xlsx',index_col='日期')\n",
    "#print(crude_oil.head())\n",
    "gold=pd.read_excel('price/黄金.xlsx',index_col='日期')\n",
    "#print(gold.head())\n",
    "steel=pd.read_excel('price/螺纹钢.xlsx',index_col='日期')\n",
    "#print(steel.head())\n",
    "#print(steel.shape)\n",
    "copper=pd.read_excel('price/铜.xlsx',index_col='日期')\n",
    "#print(copper.head())"
   ]
  },
  {
   "cell_type": "code",
   "execution_count": 58,
   "id": "b88cbbcd",
   "metadata": {},
   "outputs": [],
   "source": [
    "portfolio={'股':[stock_300,stock_1000],'债':bond,'商品':[crude_oil,gold,steel,copper]}\n",
    "annual_volatility={'股票年化波动率':[],'债年化波动率':[],'商品年化波动率':[]}\n",
    "for i in portfolio:\n",
    "    if i=='股':\n",
    "        for stock in portfolio[i]:\n",
    "            stock['log_return']=np.log(stock['收盘价(元)']/(stock['收盘价(元)'].shift(1)))\n",
    "            stock=stock.dropna()\n",
    "            annual_volatility['股票年化波动率'].append(np.sqrt(252)*stock['log_return'].std())\n",
    "    elif i=='债':\n",
    "        portfolio[i]['log_return']=np.log(portfolio[i]['收盘价(元)']/portfolio[i]['收盘价(元)'].shift(1))\n",
    "        portfolio[i]=portfolio[i].dropna()\n",
    "        annual_volatility[str(i)+'年化波动率'].append(np.sqrt(252)*portfolio[i]['log_return'].std())\n",
    "    else:\n",
    "        for commodity in portfolio[i]:\n",
    "            commodity['log_return']=np.log(commodity['结算价']/(commodity['结算价'].shift(1)))\n",
    "            commodity=commodity.dropna()\n",
    "            annual_volatility['商品年化波动率'].append(np.sqrt(252)*commodity['log_return'].std())"
   ]
  },
  {
   "cell_type": "code",
   "execution_count": 86,
   "id": "fd8bd138",
   "metadata": {},
   "outputs": [
    {
     "name": "stdout",
     "output_type": "stream",
     "text": [
      "                代码     名称  开盘价(元)  最高价(元)  最低价(元)  收盘价(元)    结算价  成交额(百万)  \\\n",
      "日期                                                                          \n",
      "1995-04-17  CU.SHF  SHFE铜   29150   29180   29110   29130  29140      0.0   \n",
      "1995-04-18  CU.SHF  SHFE铜   29200   29320   29200   29250  29260      0.0   \n",
      "1995-04-19  CU.SHF  SHFE铜   29230   29230   29080   29100  29110      0.0   \n",
      "1995-04-20  CU.SHF  SHFE铜   28520   28700   28520   28520  28520      0.0   \n",
      "1995-04-21  CU.SHF  SHFE铜   28510   28550   28050   28200  28200      0.0   \n",
      "...            ...    ...     ...     ...     ...     ...    ...      ...   \n",
      "1995-08-31  CU.SHF  SHFE铜   29550   29900   29550   29900  29730      0.0   \n",
      "1995-09-01  CU.SHF  SHFE铜   29950   29950   29700   29750  29770      0.0   \n",
      "1995-09-04  CU.SHF  SHFE铜   29720   29820   29520   29520  29630      0.0   \n",
      "1995-09-05  CU.SHF  SHFE铜   29320   29500   28910   28940  29150      0.0   \n",
      "1995-09-06  CU.SHF  SHFE铜   29200   29400   29000   29400  29250      0.0   \n",
      "\n",
      "              成交量    持仓量  log_return  \n",
      "日期                                    \n",
      "1995-04-17   2600  22240         NaN  \n",
      "1995-04-18   4250  21870    0.004110  \n",
      "1995-04-19   4340  23230   -0.005140  \n",
      "1995-04-20  10250  24360   -0.020476  \n",
      "1995-04-21  17700  22170   -0.011284  \n",
      "...           ...    ...         ...  \n",
      "1995-08-31   3020  11590   -0.008374  \n",
      "1995-09-01   3190  10690    0.001345  \n",
      "1995-09-04   3500  11340   -0.004714  \n",
      "1995-09-05   5700  12140   -0.016332  \n",
      "1995-09-06   2830  12060    0.003425  \n",
      "\n",
      "[100 rows x 11 columns]\n"
     ]
    }
   ],
   "source": [
    "print(copper.head(100))"
   ]
  },
  {
   "cell_type": "code",
   "execution_count": 74,
   "id": "93b79dec",
   "metadata": {},
   "outputs": [
    {
     "name": "stdout",
     "output_type": "stream",
     "text": [
      "[0.03849450387080373]\n"
     ]
    }
   ],
   "source": [
    "print(annual_volatility['债年化波动率'])"
   ]
  },
  {
   "cell_type": "code",
   "execution_count": 84,
   "id": "60855a4d",
   "metadata": {},
   "outputs": [
    {
     "name": "stdout",
     "output_type": "stream",
     "text": [
      "[0.3199650684415586, 0.15364016654630736, 0.18778527418677127, 0.19420663347849934]\n"
     ]
    }
   ],
   "source": [
    "print(annual_volatility['商品年化波动率'])"
   ]
  },
  {
   "cell_type": "code",
   "execution_count": 60,
   "id": "28972422",
   "metadata": {
    "scrolled": true
   },
   "outputs": [
    {
     "name": "stdout",
     "output_type": "stream",
     "text": [
      "                   代码     名称   开盘价(元)   最高价(元)   最低价(元)   收盘价(元)     涨跌幅  \\\n",
      "日期                                                                         \n",
      "2002-01-04  000300.SH  沪深300  1316.46  1316.46  1316.46  1316.46  0.0000   \n",
      "2002-01-07  000300.SH  沪深300  1302.08  1302.08  1302.08  1302.08 -0.0109   \n",
      "2002-01-08  000300.SH  沪深300  1292.71  1292.71  1292.71  1292.71 -0.0072   \n",
      "2002-01-09  000300.SH  沪深300  1272.65  1272.65  1272.65  1272.65 -0.0155   \n",
      "2002-01-10  000300.SH  沪深300  1281.26  1281.26  1281.26  1281.26  0.0068   \n",
      "\n",
      "            成交额(百万)  成交量(股)  log_return  \n",
      "日期                                       \n",
      "2002-01-04      0.0       0         NaN  \n",
      "2002-01-07      0.0       0   -0.010983  \n",
      "2002-01-08      0.0       0   -0.007222  \n",
      "2002-01-09      0.0       0   -0.015639  \n",
      "2002-01-10      0.0       0    0.006743  \n"
     ]
    }
   ],
   "source": [
    "print(stock_300.head())"
   ]
  },
  {
   "cell_type": "code",
   "execution_count": 101,
   "id": "70cae8b2",
   "metadata": {},
   "outputs": [],
   "source": [
    "risk_tolerance=0.2\n",
    "stock300_weight=2/8/annual_volatility['股票年化波动率'][0]/2\n",
    "stock1000_weight=2/8/annual_volatility['股票年化波动率'][1]/2\n",
    "bond_weight=3/8/annual_volatility['债年化波动率'][0]\n",
    "copper_weight=3/8/annual_volatility['商品年化波动率'][3]/6\n",
    "gold_weight=3/8/annual_volatility['商品年化波动率'][1]/3\n",
    "crudeoil_weight=3/8/annual_volatility['商品年化波动率'][0]/3\n",
    "steel_weight=3/8/annual_volatility['商品年化波动率'][2]/6"
   ]
  },
  {
   "cell_type": "code",
   "execution_count": 102,
   "id": "dfbcbf81",
   "metadata": {},
   "outputs": [
    {
     "name": "stdout",
     "output_type": "stream",
     "text": [
      "沪深300的权重: 49.25%\n"
     ]
    }
   ],
   "source": [
    "print(\"沪深300的权重: {:.2f}%\".format(stock300_weight*100))"
   ]
  },
  {
   "cell_type": "code",
   "execution_count": 103,
   "id": "4306774e",
   "metadata": {},
   "outputs": [
    {
     "name": "stdout",
     "output_type": "stream",
     "text": [
      "中证1000的权重: 40.81%\n"
     ]
    }
   ],
   "source": [
    "print(\"中证1000的权重: {:.2f}%\".format(stock1000_weight*100))"
   ]
  },
  {
   "cell_type": "code",
   "execution_count": 104,
   "id": "1e01f426",
   "metadata": {},
   "outputs": [
    {
     "name": "stdout",
     "output_type": "stream",
     "text": [
      "债的权重: 974.17%\n"
     ]
    }
   ],
   "source": [
    "print(\"债的权重: {:.2f}%\".format(bond_weight*100))"
   ]
  },
  {
   "cell_type": "code",
   "execution_count": 105,
   "id": "df85db7b",
   "metadata": {},
   "outputs": [
    {
     "name": "stdout",
     "output_type": "stream",
     "text": [
      "铜的权重: 32.18%\n"
     ]
    }
   ],
   "source": [
    "print(\"铜的权重: {:.2f}%\".format(copper_weight*100))"
   ]
  },
  {
   "cell_type": "code",
   "execution_count": 106,
   "id": "697dd6bc",
   "metadata": {},
   "outputs": [
    {
     "name": "stdout",
     "output_type": "stream",
     "text": [
      "黄金的权重: 81.36%\n"
     ]
    }
   ],
   "source": [
    "print(\"黄金的权重: {:.2f}%\".format(gold_weight*100))"
   ]
  },
  {
   "cell_type": "code",
   "execution_count": 107,
   "id": "39e7bf80",
   "metadata": {},
   "outputs": [
    {
     "name": "stdout",
     "output_type": "stream",
     "text": [
      "螺纹钢的权重: 33.28%\n"
     ]
    }
   ],
   "source": [
    "print(\"螺纹钢的权重: {:.2f}%\".format(steel_weight*100))"
   ]
  },
  {
   "cell_type": "code",
   "execution_count": 108,
   "id": "549a3b7d",
   "metadata": {},
   "outputs": [
    {
     "name": "stdout",
     "output_type": "stream",
     "text": [
      "原油的权重: 39.07%\n"
     ]
    }
   ],
   "source": [
    "print(\"原油的权重: {:.2f}%\".format(crudeoil_weight*100))"
   ]
  },
  {
   "cell_type": "code",
   "execution_count": null,
   "id": "576921e3",
   "metadata": {},
   "outputs": [],
   "source": []
  }
 ],
 "metadata": {
  "kernelspec": {
   "display_name": "Python 3 (ipykernel)",
   "language": "python",
   "name": "python3"
  },
  "language_info": {
   "codemirror_mode": {
    "name": "ipython",
    "version": 3
   },
   "file_extension": ".py",
   "mimetype": "text/x-python",
   "name": "python",
   "nbconvert_exporter": "python",
   "pygments_lexer": "ipython3",
   "version": "3.11.4"
  }
 },
 "nbformat": 4,
 "nbformat_minor": 5
}
